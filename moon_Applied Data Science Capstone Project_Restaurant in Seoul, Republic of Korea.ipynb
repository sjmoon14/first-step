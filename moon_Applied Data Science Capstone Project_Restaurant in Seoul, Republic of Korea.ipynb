{
 "cells": [
  {
   "cell_type": "markdown",
   "metadata": {},
   "source": [
    "# Applied Data Science Capstone Project"
   ]
  },
  {
   "cell_type": "markdown",
   "metadata": {},
   "source": [
    "## Opening a Restaurant in Seoul, Republic of Korea"
   ]
  },
  {
   "cell_type": "markdown",
   "metadata": {},
   "source": [
    "**A description of the problem and a discussion of the background**\n",
    "\n",
    "A client is looking to expand her business and open another restaurant in the capital city of the Republic of Korea, Seoul. She has yet to decide the type of the restaurant and the location of the restaurant, but wants to base her decision on data. Due to the stagnant economy and the impact of covid-19, sales has been dropping for most restaurants nationwide. However, she is hoping to use this period as an opportunity, which is why data-based decision is all the more important."
   ]
  },
  {
   "cell_type": "markdown",
   "metadata": {},
   "source": [
    "**A description of the data and how it will be used to solve the problem**\n",
    "\n",
    "The initial thinking is that Foursqaure data on Seoul will be used to analyze the restaurants in Seoul. More specifically, the location, number, type and rating of restaurants along with other features will be analyzed. Based on this analysis, recommendations on the type and location of the restaurant will be made to the client. Some important points to consider for analysis will be as follows: \n",
    "\n",
    "- The restaurant is located in a district with demand.\n",
    "- Not too many similar restaurants exist in the vicinity. \n",
    "- The restaurant is not located too far away from Yeouido for management purposes and commute as the client resides in Yeouido. "
   ]
  },
  {
   "cell_type": "code",
   "execution_count": null,
   "metadata": {},
   "outputs": [],
   "source": []
  }
 ],
 "metadata": {
  "kernelspec": {
   "display_name": "Python 3",
   "language": "python",
   "name": "python3"
  },
  "language_info": {
   "codemirror_mode": {
    "name": "ipython",
    "version": 3
   },
   "file_extension": ".py",
   "mimetype": "text/x-python",
   "name": "python",
   "nbconvert_exporter": "python",
   "pygments_lexer": "ipython3",
   "version": "3.7.6"
  }
 },
 "nbformat": 4,
 "nbformat_minor": 4
}
